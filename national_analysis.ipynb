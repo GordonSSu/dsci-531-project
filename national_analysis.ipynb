{
 "cells": [
  {
   "cell_type": "markdown",
   "id": "2ea77712-e9e8-4808-b165-6a01993d78c3",
   "metadata": {},
   "source": [
    "# Part 2: Disciplinary Policy National Analysis"
   ]
  },
  {
   "cell_type": "markdown",
   "id": "6bf4ae4b-6c58-477a-92ee-2ecbe8957535",
   "metadata": {},
   "source": [
    "## All necessary imports"
   ]
  },
  {
   "cell_type": "code",
   "execution_count": null,
   "id": "075b966f-2d2a-4630-b154-ca0120a33c93",
   "metadata": {},
   "outputs": [],
   "source": [
    "from sklearn.ensemble import GradientBoostingRegressor\n",
    "from sklearn.ensemble import RandomForestRegressor\n",
    "from sklearn.feature_selection import SelectFromModel\n",
    "from sklearn.model_selection import cross_validate\n",
    "from sklearn.model_selection import cross_val_score\n",
    "from sklearn.model_selection import GridSearchCV\n",
    "from sklearn.model_selection import KFold\n",
    "import matplotlib.pyplot as plt\n",
    "import numpy as np\n",
    "import pandas as pd\n",
    "import seaborn as sns"
   ]
  },
  {
   "cell_type": "markdown",
   "id": "10fb2257-0177-4853-bd6d-484ed8fde0f0",
   "metadata": {},
   "source": [
    "## Read in data"
   ]
  },
  {
   "cell_type": "code",
   "execution_count": 8,
   "id": "cdb139ec-3ba7-43b2-b0fc-7ddf0b3784db",
   "metadata": {
    "tags": []
   },
   "outputs": [
    {
     "data": {
      "text/html": [
       "<div>\n",
       "<style scoped>\n",
       "    .dataframe tbody tr th:only-of-type {\n",
       "        vertical-align: middle;\n",
       "    }\n",
       "\n",
       "    .dataframe tbody tr th {\n",
       "        vertical-align: top;\n",
       "    }\n",
       "\n",
       "    .dataframe thead th {\n",
       "        text-align: right;\n",
       "    }\n",
       "</style>\n",
       "<table border=\"1\" class=\"dataframe\">\n",
       "  <thead>\n",
       "    <tr style=\"text-align: right;\">\n",
       "      <th></th>\n",
       "      <th>Percent 5+ day suspensions of all actions</th>\n",
       "      <th>Percent removal with no service for remainder of school year of all actions</th>\n",
       "      <th>Percent transfer to alternative schools of all actions</th>\n",
       "      <th>Percent security staff</th>\n",
       "      <th>Percent law enforcement with firearm</th>\n",
       "      <th>Percent metal detector use</th>\n",
       "      <th>Percent security cameras</th>\n",
       "      <th>Percent locked doors</th>\n",
       "      <th>Percent locker checks</th>\n",
       "      <th>Percent schools reporting violent incidents</th>\n",
       "      <th>Violent crime rate per 1000</th>\n",
       "    </tr>\n",
       "  </thead>\n",
       "  <tbody>\n",
       "    <tr>\n",
       "      <th>0</th>\n",
       "      <td>71.74824</td>\n",
       "      <td>4.31997</td>\n",
       "      <td>23.93179</td>\n",
       "      <td>56.51682</td>\n",
       "      <td>42.92637</td>\n",
       "      <td>12.34831</td>\n",
       "      <td>82.51670</td>\n",
       "      <td>78.18020</td>\n",
       "      <td>52.88099</td>\n",
       "      <td>68.93775</td>\n",
       "      <td>17.53865</td>\n",
       "    </tr>\n",
       "    <tr>\n",
       "      <th>1</th>\n",
       "      <td>72.57346</td>\n",
       "      <td>5.12254</td>\n",
       "      <td>22.30400</td>\n",
       "      <td>61.44897</td>\n",
       "      <td>46.66295</td>\n",
       "      <td>10.36333</td>\n",
       "      <td>83.76312</td>\n",
       "      <td>78.80968</td>\n",
       "      <td>47.81693</td>\n",
       "      <td>70.68440</td>\n",
       "      <td>19.57669</td>\n",
       "    </tr>\n",
       "    <tr>\n",
       "      <th>2</th>\n",
       "      <td>68.41928</td>\n",
       "      <td>4.86017</td>\n",
       "      <td>26.72055</td>\n",
       "      <td>65.00293</td>\n",
       "      <td>51.39813</td>\n",
       "      <td>11.87798</td>\n",
       "      <td>86.00919</td>\n",
       "      <td>84.58194</td>\n",
       "      <td>446.70003716352526.7</td>\n",
       "      <td>70.19048</td>\n",
       "      <td>19.20800</td>\n",
       "    </tr>\n",
       "  </tbody>\n",
       "</table>\n",
       "</div>"
      ],
      "text/plain": [
       "   Percent 5+ day suspensions of all actions  \\\n",
       "0                                   71.74824   \n",
       "1                                   72.57346   \n",
       "2                                   68.41928   \n",
       "\n",
       "   Percent removal with no service for remainder of school year of all actions  \\\n",
       "0                                            4.31997                             \n",
       "1                                            5.12254                             \n",
       "2                                            4.86017                             \n",
       "\n",
       "   Percent transfer to alternative schools of all actions  \\\n",
       "0                                           23.93179        \n",
       "1                                           22.30400        \n",
       "2                                           26.72055        \n",
       "\n",
       "   Percent security staff  Percent law enforcement with firearm  \\\n",
       "0                56.51682                              42.92637   \n",
       "1                61.44897                              46.66295   \n",
       "2                65.00293                              51.39813   \n",
       "\n",
       "   Percent metal detector use  Percent security cameras  Percent locked doors  \\\n",
       "0                    12.34831                  82.51670              78.18020   \n",
       "1                    10.36333                  83.76312              78.80968   \n",
       "2                    11.87798                  86.00919              84.58194   \n",
       "\n",
       "  Percent locker checks  Percent schools reporting violent incidents  \\\n",
       "0              52.88099                                     68.93775   \n",
       "1              47.81693                                     70.68440   \n",
       "2  446.70003716352526.7                                     70.19048   \n",
       "\n",
       "   Violent crime rate per 1000  \n",
       "0                     17.53865  \n",
       "1                     19.57669  \n",
       "2                     19.20800  "
      ]
     },
     "execution_count": 8,
     "metadata": {},
     "output_type": "execute_result"
    }
   ],
   "source": [
    "data_path = 'data/'\n",
    "df = pd.read_csv(data_path + 'historic_policy_data.csv')\n",
    "df"
   ]
  },
  {
   "cell_type": "code",
   "execution_count": null,
   "id": "2ad5627c-de46-4437-b2e0-4da6b95c9aa1",
   "metadata": {},
   "outputs": [],
   "source": []
  }
 ],
 "metadata": {
  "kernelspec": {
   "display_name": "Python 3 (ipykernel)",
   "language": "python",
   "name": "python3"
  },
  "language_info": {
   "codemirror_mode": {
    "name": "ipython",
    "version": 3
   },
   "file_extension": ".py",
   "mimetype": "text/x-python",
   "name": "python",
   "nbconvert_exporter": "python",
   "pygments_lexer": "ipython3",
   "version": "3.7.11"
  }
 },
 "nbformat": 4,
 "nbformat_minor": 5
}
